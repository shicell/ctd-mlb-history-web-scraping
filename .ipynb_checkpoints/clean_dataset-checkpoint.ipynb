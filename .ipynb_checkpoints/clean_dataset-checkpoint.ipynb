{
 "cells": [
  {
   "cell_type": "markdown",
   "id": "df896b06-8d05-4985-9ed8-9a33b29432a3",
   "metadata": {},
   "source": [
    "# Clean Dataset"
   ]
  },
  {
   "cell_type": "markdown",
   "id": "4f240282-15a3-40e2-8115-fefc41dc3b51",
   "metadata": {},
   "source": [
    "**Purpose**: This program cleans the raw data, in the format of a jupyter notebook, which was retrieved from web_scraping.py"
   ]
  },
  {
   "cell_type": "markdown",
   "id": "ebffc46a-f837-4505-b49f-f665472f5ddd",
   "metadata": {},
   "source": [
    "## Import Libraries"
   ]
  },
  {
   "cell_type": "code",
   "execution_count": null,
   "id": "5168f96a-976f-4cb1-afe1-88435737d844",
   "metadata": {},
   "outputs": [],
   "source": [
    "import pandas as pd"
   ]
  },
  {
   "cell_type": "markdown",
   "id": "ad445146-2b62-49bd-b6d4-d4e04f4efe89",
   "metadata": {},
   "source": [
    "## Clean Year Over Year Stats First"
   ]
  },
  {
   "cell_type": "markdown",
   "id": "2c188e90-b2b7-40df-afdf-592ed952c319",
   "metadata": {},
   "source": [
    "Read files and display information"
   ]
  },
  {
   "cell_type": "code",
   "execution_count": null,
   "id": "ff7b7f2f-c713-415d-afe7-fc82efbd41ac",
   "metadata": {},
   "outputs": [],
   "source": [
    "original_yoy_df = pd.read_csv(\"raw_data/bases_stolen_league_leaders.csv\")\n",
    "print(f\"bases_stolen_league_leaders\\n{original_yoy_df.head(5)}\")\n",
    "print(f\"original_yoy_df.dtypes\\n{original_yoy_df.dtypes}\")"
   ]
  },
  {
   "cell_type": "markdown",
   "id": "351d014c-3e61-4b08-a914-a97af8a01694",
   "metadata": {},
   "source": [
    "Clean and filter for valid data"
   ]
  },
  {
   "cell_type": "code",
   "execution_count": null,
   "id": "58fbc41c-3872-4419-ae83-c05f34097e3c",
   "metadata": {},
   "outputs": [],
   "source": [
    "# filter for valid rows, which will have valid years\n",
    "valid_year = original_yoy_df[\"Year\"].str.isdigit()\n",
    "valid_league = original_yoy_df[\"League\"].isin([\"American League\", \"National League\"])\n",
    "valid_base = original_yoy_df[\"Bases Stolen\"].str.isdigit()\n",
    "\n",
    "# combine all validations together\n",
    "is_valid = valid_year & valid_league & valid_base\n",
    "\n",
    "# seperate valid and remove rows\n",
    "valid_rows_yoy = original_yoy_df[is_valid == True]"
   ]
  },
  {
   "cell_type": "markdown",
   "id": "687507d5-9bb3-46cc-a084-0e20dad9c13d",
   "metadata": {},
   "source": [
    "Save removed rows"
   ]
  },
  {
   "cell_type": "code",
   "execution_count": null,
   "id": "83aa29e4-5d95-4490-bce2-4914200283c7",
   "metadata": {},
   "outputs": [],
   "source": [
    "# Seperate remove rows\n",
    "removed_rows_yoy = original_yoy_df[is_valid == False]\n",
    "\n",
    "# save removed rows\n",
    "removed_rows_yoy.to_csv(\"removed_data/bases_stolen_league_leaders_removed.csv\",\n",
    "                        index=False)"
   ]
  },
  {
   "cell_type": "markdown",
   "id": "5c291c2e-d223-4067-8f99-6ee65486755e",
   "metadata": {},
   "source": [
    "Clean valid data"
   ]
  },
  {
   "cell_type": "code",
   "execution_count": null,
   "id": "bd383b23-7bf0-4594-a6fe-e079b266e053",
   "metadata": {},
   "outputs": [],
   "source": [
    "yoy_df = valid_rows_yoy.copy()\n",
    "yoy_df[\"Year\"] = yoy_df[\"Year\"].astype(int)\n",
    "yoy_df[\"Player ID\"] = yoy_df[\"Player ID\"].astype(str).str.strip()\n",
    "yoy_df[\"Player Name\"] = yoy_df[\"Player Name\"].astype(str).str.strip()\n",
    "yoy_df[\"Team\"] = yoy_df[\"Team\"].astype(str).str.strip()\n",
    "yoy_df[\"Bases Stolen\"] = yoy_df[\"Bases Stolen\"].astype(int)"
   ]
  },
  {
   "cell_type": "markdown",
   "id": "930087ca-76ad-498a-a9be-341d0750b3af",
   "metadata": {},
   "source": [
    "Save Final File for Year over Year"
   ]
  },
  {
   "cell_type": "code",
   "execution_count": null,
   "id": "c4b6d0c4-9ab5-49b9-bb33-a04fb1b2a69b",
   "metadata": {},
   "outputs": [],
   "source": [
    "print(f\"yoy_df.shape\\n{list(yoy_df.shape)}\")\n",
    "yoy_df.to_csv(\"cleaned_data/bases_stolen_league_leaders_cleaned.csv\", index=False)\n",
    "\n",
    "print(f\"\\nremoved_rows.shape\\n{removed_rows_yoy.shape}\")\n",
    "print(\"\\nSaved: bases_stolen_league_leaders_removed \" + \\\n",
    "      \"and bases_stolen_league_leaders_cleaned\")\n"
   ]
  },
  {
   "cell_type": "markdown",
   "id": "bc415b1a-79f3-4e73-baa7-fe8f1ab53f16",
   "metadata": {},
   "source": [
    "## Clean Base Running Statistics"
   ]
  },
  {
   "cell_type": "markdown",
   "id": "5f0ce7ef-2e7e-48c1-8d72-bc0286f0b791",
   "metadata": {},
   "source": [
    "Read files and display information"
   ]
  },
  {
   "cell_type": "code",
   "execution_count": null,
   "id": "b6aae3d8-e7ea-473f-8851-d389d86e9aa1",
   "metadata": {},
   "outputs": [],
   "source": [
    "original_stats_df = pd.read_csv(\"raw_data/base_running_stats.csv\")\n",
    "print(f\"base_running_stats\\n{original_stats_df.head(5)}\")\n",
    "print(f\"original_stats_df.dtypes\\n{original_stats_df.dtypes}\")"
   ]
  },
  {
   "cell_type": "markdown",
   "id": "2b845a60-1989-42fe-b81b-a266a916996f",
   "metadata": {},
   "source": [
    "Filter for valid rows"
   ]
  },
  {
   "cell_type": "code",
   "execution_count": null,
   "id": "5802c90b-fc81-4ee6-810f-7ac92827d7a8",
   "metadata": {},
   "outputs": [],
   "source": [
    "# filter which will have valid teams, and scores\n",
    "valid_year_team = original_stats_df[\"Team\"].astype(str).str.match(r\"\\d+ \\w+\", na=False)\n",
    "valid_sb = original_stats_df[\"Stolen Bases (SB)\"].str.contains(r\"(\\d|-)\", na=False)\n",
    "valid_cs = original_stats_df[\"Caught Stealing (CS)\"].str.contains(r\"(\\d|-)\", na=False)\n",
    "valid_sbp = original_stats_df[\"Stolen Bases Percentage\"].str.contains(r\"(\\d|-)\", na=False\n",
    "                                                                     \n",
    "# combine all validations together\n",
    "is_valid = valid_year_team & valid_sb & valid_cs & valid_sbp\n",
    "\n",
    "# filter for valid rows\n",
    "valid_rows_stats = original_stats_df[is_valid == True]"
   ]
  },
  {
   "cell_type": "markdown",
   "id": "361a1c0f-1b72-499a-ae89-698461803ee9",
   "metadata": {},
   "source": [
    "Seperate valid and remove rows"
   ]
  },
  {
   "cell_type": "code",
   "execution_count": null,
   "id": "0db3c4c1-eb36-4c48-8659-e771ed77937a",
   "metadata": {},
   "outputs": [],
   "source": [
    "# Seperate remove rows\n",
    "removed_rows_stats = original_stats_df[is_valid == False]\n",
    "\n",
    "# save removed rows\n",
    "removed_rows_stats.to_csv(\"removed_data/base_running_stats_removed.csv\"\n",
    "                          , index=False)"
   ]
  },
  {
   "cell_type": "markdown",
   "id": "82a213e3-98ae-4501-a240-6b186a7fdb96",
   "metadata": {},
   "source": [
    "Clean valid data"
   ]
  },
  {
   "cell_type": "code",
   "execution_count": null,
   "id": "22b11697-b349-40e0-8682-cb4eb790239c",
   "metadata": {},
   "outputs": [],
   "source": [
    "stats_df = valid_rows_stats.copy()\n",
    "stats_df.rename(columns={\"Team\": \"Year and Team\"}, inplace=True)\n",
    "stats_df[[\"Year\", \"Team\"]] = stats_df[\"Year and Team\"].str.split(\" \", n=1, expand=True)\n",
    "stats_df = stats_df.drop(columns=[\"Year and Team\"])\n",
    "stats_df[\"Year\"] = stats_df[\"Year\"].astype(int)\n",
    "stats_df[\"Team\"] = stats_df[\"Team\"].astype(str).str.strip()\n",
    "stats_df[\"Stolen Bases (SB)\"] = stats_df[\"Stolen Bases (SB)\"].replace(\"[,-]\", \"\", regex=True).replace(\"\", 0).astype(int)\n",
    "stats_df[\"Caught Stealing (CS)\"] = stats_df[\"Caught Stealing (CS)\"].replace(\"[,-]\", \"\", regex=True).replace(\"\", 0).astype(int)\n",
    "stats_df[\"Stolen Bases Percentage\"] = stats_df[\"Stolen Bases Percentage\"].replace(\"[-]\", \"\", regex=True).replace(\"\", 0).astype(float)"
   ]
  },
  {
   "cell_type": "markdown",
   "id": "fd714235-a27a-4e3f-89e3-e8219ee51c62",
   "metadata": {},
   "source": [
    "Seperate career from year over year stats"
   ]
  },
  {
   "cell_type": "code",
   "execution_count": null,
   "id": "13933c63-b761-4ab6-87b7-6d1f9c24c792",
   "metadata": {},
   "outputs": [],
   "source": [
    "stats_yoy_df = stats_df[stats_df[\"Team\"] != \"Years\"]\n",
    "career_df = stats_df[stats_df[\"Team\"] == \"Years\"]\n",
    "career_df = career_df.drop(columns=[\"Team\"])\n",
    "career_df = career_df.rename(columns={\"Year\":\"Total Years\"})"
   ]
  },
  {
   "cell_type": "markdown",
   "id": "617388a5-1fa7-4712-bded-84e7a2f54d42",
   "metadata": {},
   "source": [
    "Save final cleaned data"
   ]
  },
  {
   "cell_type": "code",
   "execution_count": null,
   "id": "c0fb83e2-07c0-48b0-82fb-9c98a39bfa20",
   "metadata": {},
   "outputs": [],
   "source": [
    "print(f\"stats_df.shape\\n{stats_df.shape}\")\n",
    "stats_df.to_csv(\"cleaned_data/base_running_stats_cleaned.csv\", index=False)\n",
    "stats_yoy_df.to_csv(\"cleaned_data/base_running_stats_cleaned_yoy.csv\", index=False)\n",
    "career_df.to_csv(\"cleaned_data/base_running_stats_cleaned_career.csv\", index=False)\n",
    "\n",
    "print(f\"\\nremoved_rows_stats.shape\\n{removed_rows_stats.shape}\")\n",
    "print(\"\\nSaved: base_running_stats_removed, \" + \\\n",
    "      \"base_running_stats_cleaned, \" + \\\n",
    "      \"base_running_stats_cleaned_yoy, and\" + \\\n",
    "      \"base_running_stats_cleaned_career\"\n",
    "        )"
   ]
  },
  {
   "cell_type": "markdown",
   "id": "ce1e04ec-4a1f-4a85-837f-a820d7fe061e",
   "metadata": {},
   "source": [
    "## Clean Salary Stats"
   ]
  },
  {
   "cell_type": "markdown",
   "id": "c23eb16e-daa0-4b35-9316-a0c1e6509dff",
   "metadata": {},
   "source": [
    "Read files and display information"
   ]
  },
  {
   "cell_type": "code",
   "execution_count": null,
   "id": "37434d32-4472-4bf7-8cbc-33d0b028c45f",
   "metadata": {},
   "outputs": [],
   "source": [
    "original_salary_df = pd.read_csv(\"raw_data/player_salary.csv\")\n",
    "print(f\"bases_stolen_league_leaders\\n{original_salary_df.head(5)}\")\n",
    "print(f\"original_salary_df.dtypes\\n{original_salary_df.dtypes}\")"
   ]
  },
  {
   "cell_type": "markdown",
   "id": "8907000e-5b5c-4933-b048-20fba9b49e9d",
   "metadata": {},
   "source": [
    "Filter for valid Rows"
   ]
  },
  {
   "cell_type": "code",
   "execution_count": null,
   "id": "b837bb7e-f29e-4a43-bb7c-d322eb0bc670",
   "metadata": {},
   "outputs": [],
   "source": [
    "# filter for valid rows, which will have valid years\n",
    "valid_year_team = original_salary_df[\"Team\"].astype(str).str.match(r\"\\d+ \\w+\", na=False)\n",
    "valid_uni_num = original_salary_df[\"Uniform Numbers\"].str.contains(r\"(\\d|-|n/a)\", na=False)\n",
    "valid_salary = original_salary_df[\"Salary\"].str.contains(r'(Undetermined|$|\")', na=False)\n",
    "\n",
    "# combine all validations together\n",
    "is_valid = valid_year_team & valid_uni_num & valid_salary\n",
    "\n",
    "# seperate valid and remove rows\n",
    "valid_rows_salary = original_salary_df[is_valid == True]"
   ]
  },
  {
   "cell_type": "markdown",
   "id": "819077bd-593f-4e80-9996-b6234c3ec00e",
   "metadata": {},
   "source": [
    "Remove invalid rows"
   ]
  },
  {
   "cell_type": "code",
   "execution_count": null,
   "id": "060c9b4d-2380-45cb-9684-e351f8d6fd55",
   "metadata": {},
   "outputs": [],
   "source": [
    "# seperate valid and remove rows\n",
    "removed_rows_salary = original_salary_df[is_valid == False]\n",
    "\n",
    "# save removed rows\n",
    "removed_rows_salary.to_csv(\"removed_data/player_salary_removed.csv\", \n",
    "                        index=False)"
   ]
  },
  {
   "cell_type": "markdown",
   "id": "078f19a6-bbb6-46e4-ae62-ca3b804d69e0",
   "metadata": {},
   "source": [
    "Clean valid Data"
   ]
  },
  {
   "cell_type": "code",
   "execution_count": null,
   "id": "605c3c99-e711-41a0-b1f6-f05b803dfe0d",
   "metadata": {},
   "outputs": [],
   "source": [
    "# clean valid data\n",
    "salary_df = valid_rows_salary.copy()\n",
    "salary_df.rename(columns={\"Team\": \"Year and Team\"}, inplace=True)\n",
    "salary_df[[\"Year\", \"Team\"]] = salary_df[\"Year and Team\"].str.split(\" \", n=1, expand=True)\n",
    "salary_df = salary_df.drop(columns=[\"Year and Team\"])\n",
    "salary_df[\"Year\"] = salary_df[\"Year\"].astype(int)\n",
    "salary_df[\"Team\"] = salary_df[\"Team\"].astype(str).str.strip()\n",
    "salary_df[\"Uniform Numbers\"] = salary_df[\"Uniform Numbers\"].astype(str).str.strip()\n",
    "\n",
    "# salary will need more work since values will need to be\n",
    "# altered and be filled by most recent salary if na\n",
    "salary_df[\"Salary\"] = salary_df[\"Salary\"].astype(str).str.strip()\n",
    "salary_df[\"Salary\"] = salary_df[\"Salary\"].replace('\"     \"', None)\n",
    "salary_df[\"Salary\"] = salary_df[\"Salary\"].fillna(method=\"ffill\")\n",
    "salary_df[\"Salary\"] = salary_df[\"Salary\"].replace(\"Undetermined\", None)\n",
    "salary_df[\"Salary\"] = salary_df[\"Salary\"].replace(\"[\\$,]\", \"\", regex=True).astype(float)"
   ]
  },
  {
   "cell_type": "markdown",
   "id": "a32e9d2d-181f-4856-857e-d51ebaca6ecf",
   "metadata": {},
   "source": [
    "Save Final Cleaned Data"
   ]
  },
  {
   "cell_type": "code",
   "execution_count": null,
   "id": "469f14f8-4b88-48e9-ab98-39438dc22665",
   "metadata": {},
   "outputs": [],
   "source": [
    "print(f\"salary_df.shape\\n{salary_df.shape}\")\n",
    "salary_df.to_csv(\"cleaned_data/player_salary_cleaned.csv\", index=False)\n",
    "\n",
    "print(f\"\\nremoved_rows_salary.shape\\n{removed_rows_salary.shape}\")\n",
    "print(\"\\nSaved: player_salary_removed and player_salary_cleaned\")"
   ]
  }
 ],
 "metadata": {
  "kernelspec": {
   "display_name": "Python 3 (ipykernel)",
   "language": "python",
   "name": "python3"
  },
  "language_info": {
   "codemirror_mode": {
    "name": "ipython",
    "version": 3
   },
   "file_extension": ".py",
   "mimetype": "text/x-python",
   "name": "python",
   "nbconvert_exporter": "python",
   "pygments_lexer": "ipython3",
   "version": "3.13.5"
  }
 },
 "nbformat": 4,
 "nbformat_minor": 5
}
